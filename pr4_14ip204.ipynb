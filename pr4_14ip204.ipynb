{
  "metadata": {
    "kernelspec": {
      "name": "python",
      "display_name": "Python (Pyodide)",
      "language": "python"
    },
    "language_info": {
      "codemirror_mode": {
        "name": "python",
        "version": 3
      },
      "file_extension": ".py",
      "mimetype": "text/x-python",
      "name": "python",
      "nbconvert_exporter": "python",
      "pygments_lexer": "ipython3",
      "version": "3.8"
    }
  },
  "nbformat_minor": 5,
  "nbformat": 4,
  "cells": [
    {
      "id": "8ac86f2f-5982-4da1-baaf-a23255e4dcc3",
      "cell_type": "code",
      "source": "class BankAccount:\n    \n    def __init__(self, customer, account_number, currency = '$', balance=0):\n        if not self.validate_account_number(account_number):\n            raise ValueError('Invalid account number')\n        \n        self.customer = customer\n        self.currency = currency\n        self.account_number = account_number\n        self.balance = balance\n\n    @staticmethod\n    def validate_account_number(account_number):\n        account_number = str(account_number)\n        account_number = account_number[::-1]\n        total = 0\n        \n        for i, digit in enumerate(account_number):\n            digit = int(digit)\n            if i % 2 == 1:\n                digit *= 2\n                if digit > 9:\n                    digit -= 9\n            total += digit\n        \n        return total % 10 == 0\n\n    def deposit(self, amount):\n        if amount <= 0:\n            raise ValueError('Invalid deposit amount:' + amount)\n        self.balance += amount\n            \n    def withdraw(self, amount):\n        if amount > 0:\n            if amount <= self.balance:\n                raise ValueError('Insufficient funds')\n            self.balance -= amount\n        else:\n            raise ValueError('Invalid withdrawal amount:' + amount)\n\nclass CurrentAccount(BankAccount):\n    def __init__(self, customer, account_number, currency = '$', balance=0, overdraft_limit=0):\n        super().__init__(customer, account_number, currency, balance)\n        self.overdraft_limit = overdraft_limit\n\n    def withdraw(self, amount):\n        if amount > 0:\n            if amount > self.balance + self.overdraft_limit:\n                raise ValueError('Insufficient funds')\n            self.balance -= amount\n        else:\n            raise ValueError('Invalid withdrawal amount:' + amount)\n\n\naccount = CurrentAccount(None, 210021002100, '$', 12, 11)\naccount.withdraw(18)\n",
      "metadata": {
        "trusted": true
      },
      "outputs": [
        {
          "ename": "<class 'ValueError'>",
          "evalue": "Invalid account number",
          "traceback": [
            "\u001b[0;31m---------------------------------------------------------------------------\u001b[0m",
            "\u001b[0;31mValueError\u001b[0m                                Traceback (most recent call last)",
            "Cell \u001b[0;32mIn[7], line 55\u001b[0m\n\u001b[1;32m     51\u001b[0m         \u001b[38;5;28;01melse\u001b[39;00m:\n\u001b[1;32m     52\u001b[0m             \u001b[38;5;28;01mraise\u001b[39;00m \u001b[38;5;167;01mValueError\u001b[39;00m(\u001b[38;5;124m'\u001b[39m\u001b[38;5;124mInvalid withdrawal amount:\u001b[39m\u001b[38;5;124m'\u001b[39m \u001b[38;5;241m+\u001b[39m amount)\n\u001b[0;32m---> 55\u001b[0m account \u001b[38;5;241m=\u001b[39m \u001b[43mCurrentAccount\u001b[49m\u001b[43m(\u001b[49m\u001b[38;5;28;43;01mNone\u001b[39;49;00m\u001b[43m,\u001b[49m\u001b[43m \u001b[49m\u001b[38;5;241;43m210021002100\u001b[39;49m\u001b[43m,\u001b[49m\u001b[43m \u001b[49m\u001b[38;5;124;43m'\u001b[39;49m\u001b[38;5;124;43m$\u001b[39;49m\u001b[38;5;124;43m'\u001b[39;49m\u001b[43m,\u001b[49m\u001b[43m \u001b[49m\u001b[38;5;241;43m12\u001b[39;49m\u001b[43m,\u001b[49m\u001b[43m \u001b[49m\u001b[38;5;241;43m11\u001b[39;49m\u001b[43m)\u001b[49m\n\u001b[1;32m     56\u001b[0m account\u001b[38;5;241m.\u001b[39mwithdraw(\u001b[38;5;241m18\u001b[39m)\n",
            "Cell \u001b[0;32mIn[7], line 43\u001b[0m, in \u001b[0;36mCurrentAccount.__init__\u001b[0;34m(self, customer, account_number, currency, balance, overdraft_limit)\u001b[0m\n\u001b[1;32m     42\u001b[0m \u001b[38;5;28;01mdef\u001b[39;00m \u001b[38;5;21m__init__\u001b[39m(\u001b[38;5;28mself\u001b[39m, customer, account_number, currency \u001b[38;5;241m=\u001b[39m \u001b[38;5;124m'\u001b[39m\u001b[38;5;124m$\u001b[39m\u001b[38;5;124m'\u001b[39m, balance\u001b[38;5;241m=\u001b[39m\u001b[38;5;241m0\u001b[39m, overdraft_limit\u001b[38;5;241m=\u001b[39m\u001b[38;5;241m0\u001b[39m):\n\u001b[0;32m---> 43\u001b[0m     \u001b[38;5;28;43msuper\u001b[39;49m\u001b[43m(\u001b[49m\u001b[43m)\u001b[49m\u001b[38;5;241;43m.\u001b[39;49m\u001b[38;5;21;43m__init__\u001b[39;49m\u001b[43m(\u001b[49m\u001b[43mcustomer\u001b[49m\u001b[43m,\u001b[49m\u001b[43m \u001b[49m\u001b[43maccount_number\u001b[49m\u001b[43m,\u001b[49m\u001b[43m \u001b[49m\u001b[43mcurrency\u001b[49m\u001b[43m,\u001b[49m\u001b[43m \u001b[49m\u001b[43mbalance\u001b[49m\u001b[43m)\u001b[49m\n\u001b[1;32m     44\u001b[0m     \u001b[38;5;28mself\u001b[39m\u001b[38;5;241m.\u001b[39moverdraft_limit \u001b[38;5;241m=\u001b[39m overdraft_limit\n",
            "Cell \u001b[0;32mIn[7], line 5\u001b[0m, in \u001b[0;36mBankAccount.__init__\u001b[0;34m(self, customer, account_number, currency, balance)\u001b[0m\n\u001b[1;32m      3\u001b[0m \u001b[38;5;28;01mdef\u001b[39;00m \u001b[38;5;21m__init__\u001b[39m(\u001b[38;5;28mself\u001b[39m, customer, account_number, currency \u001b[38;5;241m=\u001b[39m \u001b[38;5;124m'\u001b[39m\u001b[38;5;124m$\u001b[39m\u001b[38;5;124m'\u001b[39m, balance\u001b[38;5;241m=\u001b[39m\u001b[38;5;241m0\u001b[39m):\n\u001b[1;32m      4\u001b[0m     \u001b[38;5;28;01mif\u001b[39;00m \u001b[38;5;129;01mnot\u001b[39;00m \u001b[38;5;28mself\u001b[39m\u001b[38;5;241m.\u001b[39mvalidate_account_number(account_number):\n\u001b[0;32m----> 5\u001b[0m         \u001b[38;5;28;01mraise\u001b[39;00m \u001b[38;5;167;01mValueError\u001b[39;00m(\u001b[38;5;124m'\u001b[39m\u001b[38;5;124mInvalid account number\u001b[39m\u001b[38;5;124m'\u001b[39m)\n\u001b[1;32m      7\u001b[0m     \u001b[38;5;28mself\u001b[39m\u001b[38;5;241m.\u001b[39mcustomer \u001b[38;5;241m=\u001b[39m customer\n\u001b[1;32m      8\u001b[0m     \u001b[38;5;28mself\u001b[39m\u001b[38;5;241m.\u001b[39mcurrency \u001b[38;5;241m=\u001b[39m currency\n",
            "\u001b[0;31mValueError\u001b[0m: Invalid account number"
          ],
          "output_type": "error"
        }
      ],
      "execution_count": 7
    },
    {
      "id": "cc41dfff-49a4-4247-befa-b0467f195cf9",
      "cell_type": "code",
      "source": "",
      "metadata": {
        "trusted": true
      },
      "outputs": [],
      "execution_count": null
    }
  ]
}