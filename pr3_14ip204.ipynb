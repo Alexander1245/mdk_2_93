{
  "metadata": {
    "kernelspec": {
      "name": "python",
      "display_name": "Python (Pyodide)",
      "language": "python"
    },
    "language_info": {
      "codemirror_mode": {
        "name": "python",
        "version": 3
      },
      "file_extension": ".py",
      "mimetype": "text/x-python",
      "name": "python",
      "nbconvert_exporter": "python",
      "pygments_lexer": "ipython3",
      "version": "3.8"
    }
  },
  "nbformat_minor": 5,
  "nbformat": 4,
  "cells": [
    {
      "id": "9c69235d-f5a2-4cd9-8be9-c92168f3d501",
      "cell_type": "code",
      "source": "import math\ndef count_factors(n):\n    count = 0\n    sqrt_n = int(math.sqrt(n))\n    for i in range(1, sqrt_n + 1):\n        if n % i == 0:\n            count += 2  \n    if sqrt_n * sqrt_n == n:\n        count -= 1\n    return count\n\n\nn = 15\nprint(count_factors(n))",
      "metadata": {
        "trusted": true
      },
      "outputs": [
        {
          "name": "stdout",
          "text": "4\n",
          "output_type": "stream"
        }
      ],
      "execution_count": 6
    },
    {
      "id": "8c36a534-6b27-4aa6-b404-12e3b8fa9cc2",
      "cell_type": "code",
      "source": "import math\ndef count_factors(n):\n    count = 0\n    sqrt_n = int(math.sqrt(n))\n    for i in range(1, sqrt_n + 1):\n        if n % i == 0:\n            count += 2  # Учитываем и делитель, и соответствующий ему множитель\n    # Если n - полный квадрат, убираем лишний счетчик\n    if sqrt_n * sqrt_n == n:\n        count -= 1\n    return count\n\ndef find_supercomposite_numbers(limit):\n    supercomposite_numbers = []\n    for n in range(2, limit):\n        if count_factors(n) > count_factors(n - 1):\n            supercomposite_numbers.append(n)\n    return supercomposite_numbers\n\n%timeit find_supercomposite_numbers(100000)",
      "metadata": {
        "trusted": true
      },
      "outputs": [
        {
          "name": "stdout",
          "text": "3.34 s ± 33.5 ms per loop (mean ± std. dev. of 7 runs, 1 loop each)\n",
          "output_type": "stream"
        }
      ],
      "execution_count": 5
    },
    {
      "id": "a1fdb641-fd55-42d8-8908-a5ff5fff9089",
      "cell_type": "code",
      "source": "import math\n\ndef count_factors_loop(n):\n    count = 0\n    sqrt_n = int(math.sqrt(n))\n    for i in range(1, sqrt_n + 1):\n        if n % i == 0:\n            count += 2\n    if sqrt_n * sqrt_n == n:\n        count -= 1\n    return count\n\ndef count_factors_generator(n):\n    sqrt_n = int(math.sqrt(n))\n    factors = [(i, n // i) for i in range(1, sqrt_n + 1) if n % i == 0]\n    if sqrt_n * sqrt_n == n:\n        factors.pop()\n    return len(factors) * 2\n\nn = 1000000\n%timeit count_factors_loop(n)\n%timeit count_factors_generator(n)",
      "metadata": {
        "trusted": true
      },
      "outputs": [
        {
          "name": "stdout",
          "text": "119 µs ± 808 ns per loop (mean ± std. dev. of 7 runs, 10,000 loops each)\n123 µs ± 1.31 µs per loop (mean ± std. dev. of 7 runs, 10,000 loops each)\n",
          "output_type": "stream"
        }
      ],
      "execution_count": 1
    }
  ]
}