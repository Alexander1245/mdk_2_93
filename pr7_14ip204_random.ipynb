{
  "metadata": {
    "kernelspec": {
      "name": "python",
      "display_name": "Python (Pyodide)",
      "language": "python"
    },
    "language_info": {
      "codemirror_mode": {
        "name": "python",
        "version": 3
      },
      "file_extension": ".py",
      "mimetype": "text/x-python",
      "name": "python",
      "nbconvert_exporter": "python",
      "pygments_lexer": "ipython3",
      "version": "3.8"
    }
  },
  "nbformat_minor": 5,
  "nbformat": 4,
  "cells": [
    {
      "id": "24b97e27-e0a5-45fe-9e17-55201138f0fb",
      "cell_type": "code",
      "source": "import numpy as np\n\nmin, max, count = 0, 36, 10\nrandom_integers = np.random.randint(min, max, count)\nrandom_floats = random_integers * 0.5\nprint(random_floats)\n",
      "metadata": {
        "trusted": true
      },
      "outputs": [
        {
          "name": "stdout",
          "text": "[11.  13.5 10.5  1.5  4.5  1.   3.   0.5  1.5 16. ]\n",
          "output_type": "stream"
        }
      ],
      "execution_count": 14
    },
    {
      "id": "e1b8fa2b-0042-4bd4-881e-f12eedbd1b01",
      "cell_type": "code",
      "source": "import numpy as np\n\nsize = 10\npairs = [(0, 101), (101, 1501)]\n\nfor pair in pairs:\n    first = pair[0]\n    last = pair[1]\n    print(f\"Выборка из [{first}, {last}) = \", np.random.choice(np.arange(first, last), size=size, replace=False))\n",
      "metadata": {
        "trusted": true
      },
      "outputs": [
        {
          "name": "stdout",
          "text": "Выборка из [0, 101) =  [10 84 57 98 78 69 58 93 21 49]\nВыборка из [101, 1501) =  [ 347  615 1281 1111  117  500  879 1116 1074 1265]\n",
          "output_type": "stream"
        }
      ],
      "execution_count": 13
    },
    {
      "id": "e16176bb-d551-4d60-8b99-4edfaf274f3d",
      "cell_type": "code",
      "source": "",
      "metadata": {
        "trusted": true
      },
      "outputs": [],
      "execution_count": null
    }
  ]
}