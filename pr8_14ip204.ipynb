{
  "metadata": {
    "kernelspec": {
      "name": "python",
      "display_name": "Python (Pyodide)",
      "language": "python"
    },
    "language_info": {
      "codemirror_mode": {
        "name": "python",
        "version": 3
      },
      "file_extension": ".py",
      "mimetype": "text/x-python",
      "name": "python",
      "nbconvert_exporter": "python",
      "pygments_lexer": "ipython3",
      "version": "3.8"
    }
  },
  "nbformat_minor": 5,
  "nbformat": 4,
  "cells": [
    {
      "id": "3f4d8757-75b9-4a9d-b7fe-9d1de0ba960e",
      "cell_type": "code",
      "source": "import numpy as np\n\nsize = 1024 \ndata = np.random.random(size)\n%timeit np.fft.fft(data)\nm, k = np.meshgrid(np.arange(size), np.arange(size))\nexponents = np.exp(-2j * np.pi * m * k / size)\n\nF_m = np.dot(data, exponents)\n%timeit np.dot(data, exponents)",
      "metadata": {
        "trusted": true
      },
      "outputs": [
        {
          "name": "stdout",
          "text": "23.3 µs ± 220 ns per loop (mean ± std. dev. of 7 runs, 10,000 loops each)\n12.6 ms ± 196 µs per loop (mean ± std. dev. of 7 runs, 100 loops each)\n",
          "output_type": "stream"
        }
      ],
      "execution_count": 3
    }
  ]
}