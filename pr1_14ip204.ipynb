{
  "metadata": {
    "kernelspec": {
      "name": "python",
      "display_name": "Python (Pyodide)",
      "language": "python"
    },
    "language_info": {
      "codemirror_mode": {
        "name": "python",
        "version": 3
      },
      "file_extension": ".py",
      "mimetype": "text/x-python",
      "name": "python",
      "nbconvert_exporter": "python",
      "pygments_lexer": "ipython3",
      "version": "3.8"
    }
  },
  "nbformat_minor": 5,
  "nbformat": 4,
  "cells": [
    {
      "id": "b31745f5-a720-4e33-af1b-272c5f13b1d2",
      "cell_type": "code",
      "source": "import math\n\ndef count_factors(n):\n    count = 0\n    sqrt_n = int(math.sqrt(n))\n    for i in range(1, sqrt_n + 1):\n        if n % i == 0:\n            count += 2  \n            \n    if sqrt_n * sqrt_n == n:\n        count -= 1\n    return count\n\ndef find_supercomposite_numbers(limit):\n    supercomposite_numbers = []\n    for n in range(2, limit):\n        if count_factors(n) > count_factors(n - 1):\n            supercomposite_numbers.append(n)\n    return supercomposite_numbers\n\n%timeit find_supercomposite_numbers(100000)",
      "metadata": {
        "trusted": true
      },
      "outputs": [
        {
          "name": "stdout",
          "text": "3.45 s ± 60.7 ms per loop (mean ± std. dev. of 7 runs, 1 loop each)\n",
          "output_type": "stream"
        }
      ],
      "execution_count": 7
    },
    {
      "id": "b0f0f855-2e23-4265-afd7-c19f086eb67a",
      "cell_type": "code",
      "source": "import math\n\ndef arithmetic_geometric_mean(x, y, epsilon=1e-10, max_iterations=1000):\n    a = x\n    b = y\n    \n    iteration = 0\n    while iteration < max_iterations:\n        a_next = 0.5 * (a + b)\n        b_next = math.sqrt(a * b)\n        \n        if abs(a_next - a) < epsilon and abs(b_next - b) < epsilon:\n            return (a_next + b_next) / 2.0\n        \n        a = a_next\n        b = b_next\n        iteration += 1\n\n    raise Exception(\"Не удалось достичь необходимой точности\")\n\n# Вычисление константы Гаусса\nG = 1 / arithmetic_geometric_mean(1, math.sqrt(2))\n\nprint(\"Константа Гаусса G =\", G)",
      "metadata": {
        "trusted": true
      },
      "outputs": [
        {
          "name": "stdout",
          "text": "Константа Гаусса G = 0.8346268416740731\n",
          "output_type": "stream"
        }
      ],
      "execution_count": 3
    },
    {
      "id": "275d95fd-9a1b-43a8-9bbd-7916af720c9d",
      "cell_type": "code",
      "source": "for i in range(1, 101):\n    message = i\n    if i % 15 == 0:\n        message = \"FizzBuzz\"\n    elif i % 3 == 0:\n        message = \"Fizz\"\n    elif i % 5 == 0:\n        message = \"Buzz\"\n    print(message)",
      "metadata": {
        "trusted": true,
        "scrolled": true
      },
      "outputs": [
        {
          "name": "stdout",
          "text": "1\n2\nFizz\n4\nBuzz\nFizz\n7\n8\nFizz\nBuzz\n11\nFizz\n13\n14\nFizzBuzz\n16\n17\nFizz\n19\nBuzz\nFizz\n22\n23\nFizz\nBuzz\n26\nFizz\n28\n29\nFizzBuzz\n31\n32\nFizz\n34\nBuzz\nFizz\n37\n38\nFizz\nBuzz\n41\nFizz\n43\n44\nFizzBuzz\n46\n47\nFizz\n49\nBuzz\nFizz\n52\n53\nFizz\nBuzz\n56\nFizz\n58\n59\nFizzBuzz\n61\n62\nFizz\n64\nBuzz\nFizz\n67\n68\nFizz\nBuzz\n71\nFizz\n73\n74\nFizzBuzz\n76\n77\nFizz\n79\nBuzz\nFizz\n82\n83\nFizz\nBuzz\n86\nFizz\n88\n89\nFizzBuzz\n91\n92\nFizz\n94\nBuzz\nFizz\n97\n98\nFizz\nBuzz\n",
          "output_type": "stream"
        }
      ],
      "execution_count": 13
    },
    {
      "id": "53abadaf-7ebf-471d-9f33-40b0d6cba091",
      "cell_type": "code",
      "source": "def generate_alkane_structure(stoichiometry):\n    if not stoichiometry.startswith('C') or 'H' not in stoichiometry:\n        print(\"Некорректный формат стехиометрии.\")\n        return\n\n    carbon_count = int(stoichiometry[1:stoichiometry.index('H')])\n    hydrogen_count = int(stoichiometry[stoichiometry.index('H')+1:])\n\n    structure = 'H3C'\n    for i in range(carbon_count - 1):\n        structure += '-CH2'\n    structure += f'-CH3'\n\n    return structure\n\nstoichiometry = 'C6H12'\nresult = generate_alkane_structure(stoichiometry)\nif result:\n    print(result)",
      "metadata": {
        "trusted": true
      },
      "outputs": [
        {
          "name": "stdout",
          "text": "H3C-CH2-CH2-CH2-CH2-CH2-CH3\n",
          "output_type": "stream"
        }
      ],
      "execution_count": 15
    }
  ]
}